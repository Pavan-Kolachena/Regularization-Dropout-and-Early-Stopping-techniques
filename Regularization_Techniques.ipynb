{
  "nbformat": 4,
  "nbformat_minor": 0,
  "metadata": {
    "colab": {
      "provenance": []
    },
    "kernelspec": {
      "name": "python3",
      "display_name": "Python 3"
    },
    "language_info": {
      "name": "python"
    }
  },
  "cells": [
    {
      "cell_type": "markdown",
      "source": [
        "# Import the Libraries"
      ],
      "metadata": {
        "id": "cEv3Tz3hCeYl"
      }
    },
    {
      "cell_type": "code",
      "source": [
        "import numpy as np\n",
        "import pandas as pd\n",
        "import matplotlib.pyplot as plt\n",
        "import seaborn as sns\n",
        "\n",
        "from sklearn.model_selection import train_test_split\n",
        "from sklearn.linear_model import LogisticRegression\n",
        "from sklearn.metrics import accuracy_score"
      ],
      "metadata": {
        "id": "PwLtIREcCies"
      },
      "execution_count": 1,
      "outputs": []
    },
    {
      "cell_type": "markdown",
      "source": [
        "#Generate Syntethic data"
      ],
      "metadata": {
        "id": "UfMUmA23CoYv"
      }
    },
    {
      "cell_type": "code",
      "source": [
        "np.random.seed(42)\n",
        "\n",
        "X=np.random.rand(1000,10) # 1000 samples , 10 fetaures\n",
        "\n",
        "y=3*X[:,0]+2*X[:,1]+np.random.randn(1000)# Linear combination +noise"
      ],
      "metadata": {
        "id": "CgU655ETCsxi"
      },
      "execution_count": 2,
      "outputs": []
    },
    {
      "cell_type": "markdown",
      "source": [
        "# Convert to Dataframe for Easier Handling"
      ],
      "metadata": {
        "id": "0-PcPVcFDQSf"
      }
    },
    {
      "cell_type": "code",
      "source": [
        "df= pd.DataFrame(X,columns=[f'Feature_{i}' for i in range(10)])\n",
        "df['Target']=y"
      ],
      "metadata": {
        "id": "kkZVlh2yDU_s"
      },
      "execution_count": 3,
      "outputs": []
    },
    {
      "cell_type": "markdown",
      "source": [
        "# Train test Split"
      ],
      "metadata": {
        "id": "qzEgX035Dd5P"
      }
    },
    {
      "cell_type": "code",
      "source": [
        "X_train,X_test,y_train,y_test=train_test_split(df.drop('Target',axis=1),df['Target'],test_size=0.2,random_state=42)"
      ],
      "metadata": {
        "id": "by8U-QHIDf7w"
      },
      "execution_count": 5,
      "outputs": []
    },
    {
      "cell_type": "markdown",
      "source": [
        "#L1 Regularization or Lasso Regularization"
      ],
      "metadata": {
        "id": "3YdJOlSLD8Rz"
      }
    },
    {
      "cell_type": "code",
      "source": [
        "from sklearn.linear_model import Lasso\n",
        "\n",
        "from sklearn.metrics import mean_squared_error\n",
        "lasso_reg=Lasso(alpha=0.1)\n",
        "lasso_reg.fit(X_train,y_train)\n",
        "y_pred=lasso_reg.predict(X_test)\n",
        "mse=mean_squared_error(y_test,y_pred)\n",
        "print(f'Mean Squared Error: {mse}')\n",
        "print(f'Lasso Coefficients: {lasso_reg.coef_}')"
      ],
      "metadata": {
        "colab": {
          "base_uri": "https://localhost:8080/"
        },
        "id": "h9cwmEvWEBQ8",
        "outputId": "ab2645e6-be93-4395-849c-45b91e333f66"
      },
      "execution_count": 6,
      "outputs": [
        {
          "output_type": "stream",
          "name": "stdout",
          "text": [
            "Mean Squared Error: 1.2339145918120187\n",
            "Lasso Coefficients: [ 1.59464564  0.84657908 -0.          0.         -0.         -0.\n",
            " -0.         -0.          0.          0.        ]\n"
          ]
        }
      ]
    },
    {
      "cell_type": "markdown",
      "source": [
        "# L2 regularization or Ridge Regularization"
      ],
      "metadata": {
        "id": "N9xVmVNEEfqX"
      }
    },
    {
      "cell_type": "code",
      "source": [
        "from sklearn.linear_model import Ridge\n",
        "ridge_reg=Ridge(alpha=0.1)\n",
        "ridge_reg.fit(X_train,y_train)\n",
        "y_pred=ridge_reg.predict(X_test)\n",
        "\n",
        "print(f'Mean Squared Error: {mse}')\n",
        "print(f'Ridge Coefficients: {ridge_reg.coef_}')"
      ],
      "metadata": {
        "colab": {
          "base_uri": "https://localhost:8080/"
        },
        "id": "0eL0ENglElQO",
        "outputId": "bb7e4c75-ac5b-4081-b1d3-df49ceb8d7ed"
      },
      "execution_count": 8,
      "outputs": [
        {
          "output_type": "stream",
          "name": "stdout",
          "text": [
            "Mean Squared Error: 1.2339145918120187\n",
            "Ridge Coefficients: [ 2.8928236   2.09389941 -0.05131639  0.19478672 -0.05746913 -0.16845035\n",
            " -0.23119039 -0.09114423 -0.04108028  0.0789407 ]\n"
          ]
        }
      ]
    },
    {
      "cell_type": "markdown",
      "source": [
        "# Elastic net regularization"
      ],
      "metadata": {
        "id": "JmFLG7WPE4XG"
      }
    },
    {
      "cell_type": "code",
      "source": [
        "from sklearn.linear_model import ElasticNet\n",
        "elastic_net=ElasticNet(alpha=0.1,l1_ratio=0.5)\n",
        "elastic_net.fit(X_train,y_train)\n",
        "y_pred=elastic_net.predict(X_test)\n",
        "\n",
        "print(f'Mean Squared Error: {mse}')\n",
        "print(f'Elastic Net Coefficients: {elastic_net.coef_}')"
      ],
      "metadata": {
        "colab": {
          "base_uri": "https://localhost:8080/"
        },
        "id": "QNNv5ZEQE8Ru",
        "outputId": "03ce55ce-ddb9-41f4-b104-3a88acb5ff30"
      },
      "execution_count": 9,
      "outputs": [
        {
          "output_type": "stream",
          "name": "stdout",
          "text": [
            "Mean Squared Error: 1.2339145918120187\n",
            "Elastic Net Coefficients: [ 1.37080636  0.8941832  -0.          0.         -0.         -0.\n",
            " -0.         -0.          0.          0.        ]\n"
          ]
        }
      ]
    },
    {
      "cell_type": "markdown",
      "source": [
        "# Dropoutsand Early Stopping in Neural Networks\n"
      ],
      "metadata": {
        "id": "V8wBZDb6FDNF"
      }
    },
    {
      "cell_type": "code",
      "source": [
        "import tensorflow as tf\n",
        "from tensorflow import keras\n",
        "from sklearn.datasets import make_classification\n",
        "from sklearn.model_selection import train_test_split\n",
        "from sklearn.metrics import accuracy_score\n",
        "from tensorflow.keras.models import Sequential\n",
        "from tensorflow.keras.layers import Dense, Dropout\n",
        "from tensorflow.keras.callbacks import EarlyStopping"
      ],
      "metadata": {
        "id": "by3wivjcFK8G"
      },
      "execution_count": 10,
      "outputs": []
    },
    {
      "cell_type": "markdown",
      "source": [
        "# Build a Simple Neural Networks"
      ],
      "metadata": {
        "id": "9TfLjZH0FhTw"
      }
    },
    {
      "cell_type": "code",
      "source": [
        "model=Sequential([Dense(64,activation='relu',input_shape=(X_train.shape[1],)),Dropout(0.5),Dense(32,activation='relu'),Dropout(0.5),Dense(1)])"
      ],
      "metadata": {
        "colab": {
          "base_uri": "https://localhost:8080/"
        },
        "id": "uNgfcUe4FlEW",
        "outputId": "be35c36a-c70b-4557-b6d5-251e3f3a2738"
      },
      "execution_count": 11,
      "outputs": [
        {
          "output_type": "stream",
          "name": "stderr",
          "text": [
            "/usr/local/lib/python3.10/dist-packages/keras/src/layers/core/dense.py:87: UserWarning: Do not pass an `input_shape`/`input_dim` argument to a layer. When using Sequential models, prefer using an `Input(shape)` object as the first layer in the model instead.\n",
            "  super().__init__(activity_regularizer=activity_regularizer, **kwargs)\n"
          ]
        }
      ]
    },
    {
      "cell_type": "markdown",
      "source": [
        "# Compile the Model"
      ],
      "metadata": {
        "id": "EdvYHbN7GQBL"
      }
    },
    {
      "cell_type": "code",
      "source": [
        "model.compile(optimizer='adam',loss='mean_squared_error',metrics=['accuracy'])\n",
        "\n",
        "#Early Stopping Comeback\n",
        "\n",
        "early_stopping=EarlyStopping(monitor='val_loss',patience=3,restore_best_weights=True)"
      ],
      "metadata": {
        "id": "l9tLBm7GGTHF"
      },
      "execution_count": 15,
      "outputs": []
    },
    {
      "cell_type": "markdown",
      "source": [
        "#Train the model"
      ],
      "metadata": {
        "id": "QsSHhJdnGkXN"
      }
    },
    {
      "cell_type": "code",
      "source": [
        "history=model.fit(X_train,y_train,validation_data=(X_test,y_test),epochs=100,batch_size=32,callbacks=[early_stopping])"
      ],
      "metadata": {
        "colab": {
          "base_uri": "https://localhost:8080/"
        },
        "id": "JEqsx3NlGm43",
        "outputId": "a9dac526-83c2-4ef7-9267-911095e9b654"
      },
      "execution_count": 16,
      "outputs": [
        {
          "output_type": "stream",
          "name": "stdout",
          "text": [
            "Epoch 1/100\n",
            "\u001b[1m25/25\u001b[0m \u001b[32m━━━━━━━━━━━━━━━━━━━━\u001b[0m\u001b[37m\u001b[0m \u001b[1m2s\u001b[0m 18ms/step - accuracy: 0.0000e+00 - loss: 1.6248 - val_accuracy: 0.0000e+00 - val_loss: 1.1669\n",
            "Epoch 2/100\n",
            "\u001b[1m25/25\u001b[0m \u001b[32m━━━━━━━━━━━━━━━━━━━━\u001b[0m\u001b[37m\u001b[0m \u001b[1m0s\u001b[0m 4ms/step - accuracy: 0.0000e+00 - loss: 1.7370 - val_accuracy: 0.0000e+00 - val_loss: 1.1705\n",
            "Epoch 3/100\n",
            "\u001b[1m25/25\u001b[0m \u001b[32m━━━━━━━━━━━━━━━━━━━━\u001b[0m\u001b[37m\u001b[0m \u001b[1m0s\u001b[0m 3ms/step - accuracy: 0.0000e+00 - loss: 1.7487 - val_accuracy: 0.0000e+00 - val_loss: 1.1384\n",
            "Epoch 4/100\n",
            "\u001b[1m25/25\u001b[0m \u001b[32m━━━━━━━━━━━━━━━━━━━━\u001b[0m\u001b[37m\u001b[0m \u001b[1m0s\u001b[0m 3ms/step - accuracy: 0.0000e+00 - loss: 1.6222 - val_accuracy: 0.0000e+00 - val_loss: 1.1514\n",
            "Epoch 5/100\n",
            "\u001b[1m25/25\u001b[0m \u001b[32m━━━━━━━━━━━━━━━━━━━━\u001b[0m\u001b[37m\u001b[0m \u001b[1m0s\u001b[0m 4ms/step - accuracy: 0.0000e+00 - loss: 1.6231 - val_accuracy: 0.0000e+00 - val_loss: 1.1879\n",
            "Epoch 6/100\n",
            "\u001b[1m25/25\u001b[0m \u001b[32m━━━━━━━━━━━━━━━━━━━━\u001b[0m\u001b[37m\u001b[0m \u001b[1m0s\u001b[0m 4ms/step - accuracy: 0.0000e+00 - loss: 1.6352 - val_accuracy: 0.0000e+00 - val_loss: 1.1771\n"
          ]
        }
      ]
    },
    {
      "cell_type": "markdown",
      "source": [
        "#Evaluate the model\n"
      ],
      "metadata": {
        "id": "RjXF7a5zGrIk"
      }
    },
    {
      "cell_type": "code",
      "source": [
        "test_loss=model.evaluate(X_test,y_test)\n",
        "print(f'Test Loss: {test_loss}')"
      ],
      "metadata": {
        "colab": {
          "base_uri": "https://localhost:8080/"
        },
        "id": "jDtXhqY3GviN",
        "outputId": "01341c37-a9e4-4cbb-bf47-fbaa958193c2"
      },
      "execution_count": 17,
      "outputs": [
        {
          "output_type": "stream",
          "name": "stdout",
          "text": [
            "\u001b[1m7/7\u001b[0m \u001b[32m━━━━━━━━━━━━━━━━━━━━\u001b[0m\u001b[37m\u001b[0m \u001b[1m0s\u001b[0m 2ms/step - accuracy: 0.0000e+00 - loss: 1.2156 \n",
            "Test Loss: [1.1383752822875977, 0.0]\n"
          ]
        }
      ]
    }
  ]
}